{
 "cells": [
  {
   "cell_type": "code",
   "execution_count": 12,
   "id": "446c6bbc",
   "metadata": {},
   "outputs": [],
   "source": [
    "from newspaper import Article\n",
    "url='https://www.latimes.com/california/story/2024-04-10/woman-who-threw-child-from-car-on-405-was-controversial-astrology-influencer'\n",
    "\n",
    "my_article = Article(url, language=\"en\")\n",
    "my_article.download()\n",
    "#print(my_article.html)\n",
    "my_article.parse()"
   ]
  },
  {
   "cell_type": "code",
   "execution_count": 2,
   "id": "5e7e39c9",
   "metadata": {},
   "outputs": [
    {
     "name": "stdout",
     "output_type": "stream",
     "text": [
      "Title:  Mom who pushed kids from moving car was astrology influencer disturbed by eclipse\n"
     ]
    }
   ],
   "source": [
    "print('Title: ', my_article.title)\n"
   ]
  },
  {
   "cell_type": "code",
   "execution_count": 3,
   "id": "3fc7279f",
   "metadata": {},
   "outputs": [
    {
     "name": "stdout",
     "output_type": "stream",
     "text": [
      "Authors:  ['Noah Goldberg Covers Breaking News For The Los Angeles Times. He Worked Previously In New York City As The Brooklyn Courts Reporter For The New York Daily News', 'Covering Major Criminal Trials As Well As Working On Enterprise Stories. Before That', 'He Was The Criminal Justice Reporter For The Brooklyn Eagle.', 'Richard Winton Is An Investigative Crime Writer For The Los Angeles Times', 'Part Of The Team That Won The Pulitzer Prize For Public Service In Known As', 'Hannah Fry Covers Breaking News For The Los Angeles Times. She Most Recently Covered Orange County For The Times', 'Has Written Extensively About Criminal Trials', 'Housing', 'Politics', 'Government. In']\n"
     ]
    }
   ],
   "source": [
    "print('Authors: ', my_article.authors)"
   ]
  },
  {
   "cell_type": "code",
   "execution_count": 4,
   "id": "7741354b",
   "metadata": {},
   "outputs": [
    {
     "name": "stdout",
     "output_type": "stream",
     "text": [
      "publishing date:  2024-04-10 00:00:00\n"
     ]
    }
   ],
   "source": [
    "print('publishing date: ',my_article.publish_date)"
   ]
  },
  {
   "cell_type": "code",
   "execution_count": 5,
   "id": "af996910",
   "metadata": {},
   "outputs": [
    {
     "name": "stdout",
     "output_type": "stream",
     "text": [
      "text:  Selfie photo of Danielle Johnson. (Twitter)\n",
      "\n",
      "Danielle Johnson was worried about the eclipse.\n",
      "\n",
      "The astrology influencer and “divine healer,” who went by the name Danielle Ayoka online, called the upcoming astronomical event “the epitome of spiritual warfare” and told people they needed to “pick a side,” in posts Thursday on X.\n",
      "\n",
      "Less than three days later, in the early morning before the partial solar eclipse, Johnson left a trail of tragedy in her wake: her partner stabbed to death in the kitchen of the family apartment in Woodland Hills, her 8-month-old baby dead after being pushed from Johnson’s moving Porsche Cayenne on the 405, and Johnson herself dead after crashing her car on Pacific Coast Highway in Redondo Beach.\n",
      "\n",
      "WAKE UP WAKE UP THE APOCALYPSE IS HERE. EVERYONE WHO HAS EARS LISTEN. YOUR TIME TO CHOOSE WHAT YOU BELIEVE IS NOW. IF YOU BELIEVE A NEW WORLD IS POSSIBLE FOR THE PEOPLE RT NOW.\n",
      "\n",
      "\n",
      "\n",
      "THERE IS POWER IN CHOICE. THERE IS POWER IN CHOICE!!!! REPOST TO MAKE THE CHOICE FOR THE COLLECTIVE pic.twitter.com/NMyuLkBj5l — Ayoka (@MysticxLipstick) April 5, 2024\n",
      "\n",
      "Found by investigators lying about the Woodland Hills apartment: tarot cards and black feathers.\n",
      "\n",
      "Advertisement\n",
      "\n",
      "Law enforcement sources confirmed to The Times on Wednesday that Ayoka — who was active online as an R&B recording artist as well as an astrologer offering self-help and healing sessions for a fee — was Johnson, the suspect in the two deaths.\n",
      "\n",
      "The LAPD has said little publicly about the motive in the deaths and stress the investigation is ongoing. Lt. Guy Golan, homicide supervisor for the LAPD Valley Bureau, said Johnson and her partner, 29-year-old Jaelen Allen Chaney, had no documented history of domestic violence or calls to the Los Angeles Police Department. There were no prior indicators of domestic strife, Golan said.\n",
      "\n",
      "With no clear motive, investigators believe that the eclipse may have been a factor in the killings because of some of the things Johnson wrote just days before, according to sources, who spoke on the condition of anonymity because they were not authorized to speak publicly.\n",
      "\n",
      "Under the Ayoka moniker, Johnson issued a torrent of antisemitic screeds, conspiracy theories and alarmist warnings on Thursday and Friday. These included a repost of a debunked apocryphal speech attributed to Ben Franklin about how Jewish people “depreciated” societies wherever they settled, a video about Jews promoting pedophilia in the entertainment industry, and unproven theories about the origin of COVID-19.\n",
      "\n",
      "In late March, she posted a GIF of a tapered candle surrounded by leaves, calling it a “free eclipse protection candle for your mind and body” and advising users to “like to activate.” But as the eclipse drew nearer, her posts grew more alarming. On Friday she wrote an all-capital message: “If any spiritual account is not revealing the truth right now they are fake. They are lies. They have sold out and are on the wrong side. Wake up!”\n",
      "\n",
      "Eclipses have become fraught with conspiracies of imminent doom. Social media posts, including one on Reddit that expressed concern over an impending “massive human sacrifice” during the eclipse, have gained attention despite a lack of credible evidence.\n",
      "\n",
      "Advertisement\n",
      "\n",
      "In 2017, NASA published a webpage dedicated to debunking various myths surrounding that year’s eclipse. One was that eclipses are prophecies of major life changes or impending events.\n",
      "\n",
      "“This is a common interpretation found in astrological forecasts, which are themselves based upon coincidences and non-scientific beliefs in how celestial events control human behavior,” NASA’s webpage says.\n",
      "\n",
      "NASA notes that it’s only human psychology that “connects eclipses with future events in your life.”\n",
      "\n",
      "Despite her penchant for offensive posts, Johnson was popular online, with more than 100,000 followers on X who liked her increasingly worrying messages. Years ago she became a darling of the media, with numerous sites such as Refinery 29 and the Fader posting glowing reviews of the “clairvoyant” Johnson’s skills at giving followers “dead on descriptions of each zodiac sign and [guiding] them to wellness through detailed moon rituals.” She would often make posts about specific zodiac signs and how they were being affected at the time by astrological movements.\n",
      "\n",
      "Refinery 29 said Johnson had “a brilliant gift for calling out the nonsense of any sun sign in need of real truths.”\n",
      "\n",
      "Johnson started pursuing astrology and reiki — an energy healing technique — about a decade ago and decided to post about it on social media because people in her age group didn’t know about the practices at the time, she said during a podcast interview in September. She wasn’t immediately embraced.\n",
      "\n",
      "Advertisement\n",
      "\n",
      "“I got so much [flak] when I went online and became an astrologer and started doing reiki and started doing distant healing,” she said.\n",
      "\n",
      "Johnson said on the podcast that she was descended from Cherokee medicine women and was born with the ability to see spirits and a heightened intuition.\n",
      "\n",
      "According to her own website, Johnson’s own near-death experience at age 3 led her into “Shamanism.”\n",
      "\n",
      "“Coming from a rich lineage of Indigenous Shaman and Medicine Women, Danielle’s spiritual gifts began to blossom. Danielle began her tutelage with her personal healer in 2011, after beginning her own healing journey,” her website reads.\n",
      "\n",
      "She offered weekly aura cleanses for $2.99 ($1.99 for members of her site) as well as a healing series that was $150 per month for five months, a price that drew some criticism online.\n",
      "\n",
      "“This series will be LIFE CHANGING for anyone who has struggled with confidence, second guessing themselves and not feeling ‘good enough,’” she wrote on her site.\n",
      "\n",
      "Advertisement\n",
      "\n",
      "She also offered a $6.99 per month home purifying cleanse that stripped people’s residences of “stagnant energy,” citing better sleep and an increased “vibration” as some of the benefits. Activating the service was simple: purchase the cleanse, get a piece of paper and title it “home purifying cleanse” and write your address on it. Then tuck it away in a safe place, she wrote.\n",
      "\n",
      "Her neighbors recognized Johnson’s kitchen in candlelight ceremonies she would host for her followers.\n",
      "\n",
      "As Ayoka, Johnson also recorded and released songs via online streaming services, and she had an Instagram account for her music as “ayokamystic.”\n",
      "\n",
      "Julie Russell, a senior licensed teacher of reiki and a registered nurse, said Johnson’s actions go against the principles of reiki, which emphasize love, light and happiness.\n",
      "\n",
      "“The practices of reiki and the philosophy behind it is all about love and compassion for yourself and for others,” she said. “It leaves the question of why in the world would a woman who is very metaphysical do something like this?”\n",
      "\n",
      "Johnson, who was eight months postpartum, could have been suffering from a mental health condition that triggered her actions, Russell said.\n",
      "\n",
      "Advertisement\n",
      "\n",
      "“I think this has nothing to do with her metaphysics. I would say this is a mental health case,” Russell said.\n",
      "\n",
      "A family member of Johnson, who asked to remain anonymous so the family could grieve in private, said she believed the killings were more related to postpartum issues than Johnson’s astrological beliefs.\n",
      "\n",
      "“So many women struggle with postpartum issues,” the family member said. “I know there’s a spin on the astrology part but I don’t think that’s what it is.”\n",
      "\n",
      "But Dr. Natalie Rasgon, a Stanford professor of psychiatry who has studied postpartum psychosis, said Johnson’s case is not likely an example of the malady.\n",
      "\n",
      "Usually postpartum psychosis episodes occur within a month or two of birth, said Dr. Rasgon, and Johnson’s baby was 8 months old. The episode could have been related to postpartum depression, a less severe disorder that many mothers experience that can begin four months or so after a person gives birth.\n",
      "\n",
      "Rasgon said it was likely that Johnson had underlying mental health issues.\n",
      "\n",
      "Investigators offered this account of the morning of the killings:\n",
      "\n",
      "Johnson stabbed Chaney in the heart early Monday morning as he was on the couch. The evidence suggests that she attempted to drag his body out of the upscale apartment in the Woodland Hills Montecito Apartments complex, but at some point abandoned the effort and dragged his body back into the apartment’s kitchen.\n",
      "\n",
      "Advertisement\n",
      "\n",
      "The effort left bloody footprints in the corridor outside, and she was spotted with a noticeable limp in the aftermath. She then fled the apartment complex with her two daughters — one of them 9 years old, the other 8 months — ramming a gate with her car on the way out.\n",
      "\n",
      "Shortly before 4:30 a.m., she shoved her older daughter out of the car with the infant in the girl’s arms as her vehicle neared the Sepulveda Boulevard/Howard Hughes Parkway exit. The older child survived the fall and escaped traffic, but the infant was killed.\n",
      "\n",
      "Roughly half an hour later, police in Redondo Beach responded to reports that a black Porsche Cayenne crashed into a tree while driving more than 100 mph on Pacific Coast Highway near Vincent Street. The driver, who was pronounced dead at the scene, suffered massive injuries that made her identification difficult.\n",
      "\n",
      "Two hours later, police arrived at Johnson’s apartment after a neighbor reported finding Chaney stabbed to death.\n",
      "\n",
      "Chaney served in the Air Force as recently as 2020, according to the source.\n",
      "\n",
      "National Archives and Records Administration photographs indicate that Chaney served as an armament technician in the 31st Munitions Squadron and was stationed in Italy for a period during his service.\n",
      "\n",
      "A law enforcement source told The Times that Chaney and Johnson lived together for more than three years. Johnson appeared to be in the midst of a divorce involving a past partner, according to the source.\n",
      "\n",
      "Advertisement\n",
      "\n",
      "Johnson posted a photo on X in May 2023 of a teardrop diamond ring on her left hand with the caption “when a Taurus man spoils you.” The photo was flooded with congratulatory comments. “Yes, when it works, it WORKS,” she responded.\n"
     ]
    }
   ],
   "source": [
    "print('text: ', my_article.text)"
   ]
  },
  {
   "cell_type": "code",
   "execution_count": 9,
   "id": "6cc0ce9e",
   "metadata": {},
   "outputs": [],
   "source": [
    "import newspaper\n"
   ]
  },
  {
   "cell_type": "code",
   "execution_count": 10,
   "id": "aaa95b12",
   "metadata": {},
   "outputs": [],
   "source": [
    "bbc = newspaper.build('http://bbc.com')"
   ]
  },
  {
   "cell_type": "code",
   "execution_count": 11,
   "id": "259c4286",
   "metadata": {},
   "outputs": [],
   "source": [
    "for article in bbc.articles:\n",
    "    url = article.url\n",
    "    print(article.url)\n",
    "    #my_article = Article(url, language=\"en\")\n",
    "    my_article.download()\n",
    "    #print(my_article.html)\n",
    "    my_article.parse()\n",
    "    print('Title: ', my_article.title)\n",
    "    print('Authors: ', my_article.authors)\n",
    "    print('publishing date: ',my_article.publish_date)\n",
    "    print('text: ', my_article.text)"
   ]
  },
  {
   "cell_type": "code",
   "execution_count": null,
   "id": "436be05f",
   "metadata": {},
   "outputs": [],
   "source": []
  }
 ],
 "metadata": {
  "kernelspec": {
   "display_name": "Python 3 (ipykernel)",
   "language": "python",
   "name": "python3"
  },
  "language_info": {
   "codemirror_mode": {
    "name": "ipython",
    "version": 3
   },
   "file_extension": ".py",
   "mimetype": "text/x-python",
   "name": "python",
   "nbconvert_exporter": "python",
   "pygments_lexer": "ipython3",
   "version": "3.11.5"
  }
 },
 "nbformat": 4,
 "nbformat_minor": 5
}
